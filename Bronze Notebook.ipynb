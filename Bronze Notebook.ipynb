{
 "cells": [
  {
   "cell_type": "markdown",
   "metadata": {
    "application/vnd.databricks.v1+cell": {
     "cellMetadata": {},
     "inputWidgets": {},
     "nuid": "7d5aa076-ebe2-4b66-9548-f5b1f9aee15b",
     "showTitle": false,
     "tableResultSettingsMap": {},
     "title": ""
    }
   },
   "source": [
    "IMPORT LIBRARY WITH PYSPARK AND OTHERS"
   ]
  },
  {
   "cell_type": "code",
   "execution_count": 0,
   "metadata": {
    "application/vnd.databricks.v1+cell": {
     "cellMetadata": {
      "byteLimit": 2048000,
      "rowLimit": 10000
     },
     "inputWidgets": {},
     "nuid": "3137c9c8-099c-4097-89d5-a994b82aa04b",
     "showTitle": false,
     "tableResultSettingsMap": {},
     "title": ""
    }
   },
   "outputs": [],
   "source": [
    "from pyspark.sql.types import StructField, StructType, IntegerType, StringType, BooleanType, DateType, DecimalType\n",
    "from pyspark.sql.functions import col, when, sum, avg, row_number \n",
    "from pyspark.sql.window import Window\n",
    "from pyspark.sql import SparkSession \n",
    "from pyspark.sql.functions import col\n",
    "import re\n"
   ]
  },
  {
   "cell_type": "code",
   "execution_count": 0,
   "metadata": {
    "application/vnd.databricks.v1+cell": {
     "cellMetadata": {
      "byteLimit": 2048000,
      "rowLimit": 10000
     },
     "inputWidgets": {},
     "nuid": "94fce58d-817c-4e57-9121-68eaa856e852",
     "showTitle": false,
     "tableResultSettingsMap": {},
     "title": ""
    }
   },
   "outputs": [],
   "source": [
    "#create session\n",
    "spark = SparkSession.builder.appName(\"World Bank Data Analysis\").getOrCreate()\n",
    "     "
   ]
  },
  {
   "cell_type": "code",
   "execution_count": 0,
   "metadata": {
    "application/vnd.databricks.v1+cell": {
     "cellMetadata": {
      "byteLimit": 2048000,
      "rowLimit": 10000
     },
     "inputWidgets": {},
     "nuid": "c8bd953b-f0aa-4bba-bdd9-a1e7517663e1",
     "showTitle": false,
     "tableResultSettingsMap": {},
     "title": ""
    }
   },
   "outputs": [],
   "source": [
    "spark"
   ]
  },
  {
   "cell_type": "markdown",
   "metadata": {
    "application/vnd.databricks.v1+cell": {
     "cellMetadata": {},
     "inputWidgets": {},
     "nuid": "c565e4a9-0bfa-4f06-87b1-dc94ba0ddb6e",
     "showTitle": false,
     "tableResultSettingsMap": {},
     "title": ""
    }
   },
   "source": [
    "DATABRICK MEDALLION ARCHITECTURE"
   ]
  },
  {
   "cell_type": "code",
   "execution_count": 0,
   "metadata": {
    "application/vnd.databricks.v1+cell": {
     "cellMetadata": {
      "byteLimit": 2048000,
      "rowLimit": 10000
     },
     "inputWidgets": {},
     "nuid": "37c8c975-ef4f-40af-ab4b-98ac76a796ea",
     "showTitle": false,
     "tableResultSettingsMap": {},
     "title": ""
    }
   },
   "outputs": [],
   "source": [
    "spark.sql(\"SELECT current_catalog()\").show()\n"
   ]
  },
  {
   "cell_type": "code",
   "execution_count": 0,
   "metadata": {
    "application/vnd.databricks.v1+cell": {
     "cellMetadata": {
      "byteLimit": 2048000,
      "rowLimit": 10000
     },
     "inputWidgets": {},
     "nuid": "3bc85580-8137-4466-ab3c-4ad70ceee374",
     "showTitle": false,
     "tableResultSettingsMap": {},
     "title": ""
    }
   },
   "outputs": [],
   "source": [
    "spark.sql(\"CREATE DATABASE IF NOT EXISTS bronze_layer\")\n",
    "spark.sql(\"CREATE DATABASE IF NOT EXISTS silver_layer\")\n",
    "spark.sql(\"CREATE DATABASE IF NOT EXISTS gold_layer\")"
   ]
  },
  {
   "cell_type": "code",
   "execution_count": 0,
   "metadata": {
    "application/vnd.databricks.v1+cell": {
     "cellMetadata": {
      "byteLimit": 2048000,
      "rowLimit": 10000
     },
     "inputWidgets": {},
     "nuid": "ccc24812-1f28-4d16-93e6-d7ce864919d0",
     "showTitle": false,
     "tableResultSettingsMap": {},
     "title": ""
    }
   },
   "outputs": [],
   "source": [
    "spark.sql(\"SHOW SCHEMAS IN brian_work\").show()"
   ]
  },
  {
   "cell_type": "code",
   "execution_count": 0,
   "metadata": {
    "application/vnd.databricks.v1+cell": {
     "cellMetadata": {},
     "inputWidgets": {},
     "nuid": "5cc36dc1-6e02-4c4b-803b-4197342dda0f",
     "showTitle": false,
     "tableResultSettingsMap": {},
     "title": ""
    }
   },
   "outputs": [],
   "source": [
    "# 📁 Catalog: `brian_work`\n",
    "\n",
    "# ├── Schema (Database): `bronze_layer`  \n",
    "# │   ├── Table: `bronze_shopping_data`  \n",
    "\n",
    "# ├── Schema (Database): `silver_layer`  \n",
    "# │   ├── Table: `silver_shopping_data`  \n",
    "\n",
    "# └── Schema (Database): `gold_layer`  \n",
    "# │   ├── Table: `gold_shopping_data`  \n",
    " \n"
   ]
  },
  {
   "cell_type": "markdown",
   "metadata": {
    "application/vnd.databricks.v1+cell": {
     "cellMetadata": {},
     "inputWidgets": {},
     "nuid": "71c3087e-b3ee-4427-b56d-612b152e3993",
     "showTitle": false,
     "tableResultSettingsMap": {},
     "title": ""
    }
   },
   "source": [
    "BRONZE LAYER PROCESSING"
   ]
  },
  {
   "cell_type": "code",
   "execution_count": 0,
   "metadata": {
    "application/vnd.databricks.v1+cell": {
     "cellMetadata": {
      "byteLimit": 2048000,
      "rowLimit": 10000
     },
     "inputWidgets": {},
     "nuid": "de4fbf29-b7a8-4f5c-81d6-af73b91d26a5",
     "showTitle": false,
     "tableResultSettingsMap": {},
     "title": ""
    }
   },
   "outputs": [],
   "source": [
    "#Check table in Bronze Layer\n",
    "spark.sql(\"SHOW TABLES IN brian_work.bronze_layer\").show()"
   ]
  },
  {
   "cell_type": "code",
   "execution_count": 0,
   "metadata": {
    "application/vnd.databricks.v1+cell": {
     "cellMetadata": {
      "byteLimit": 2048000,
      "rowLimit": 10000
     },
     "inputWidgets": {},
     "nuid": "85de7a21-b632-4c29-8433-9c923fdec3ac",
     "showTitle": false,
     "tableResultSettingsMap": {},
     "title": ""
    }
   },
   "outputs": [],
   "source": [
    "#Clean column names before reading data\n",
    "def clean_column_names(df):\n",
    "    \"\"\"\n",
    "    Cleans column names by replacing invalid characters with underscores.\n",
    "    Parameters:\n",
    "        df (pyspark.sql.DataFrame): The input Spark DataFrame\n",
    "    Returns:\n",
    "        pyspark.sql.DataFrame: A new DataFrame with cleaned column names.\n",
    "    \"\"\"\n",
    "    def sanitize_column_name(column_name):\n",
    "        return re.sub(r\"[ ,;{}()\\n\\t=]\", \"_\", column_name)  # Replace invalid characters with \"_\"\n",
    "    \n",
    "    # Rename columns\n",
    "    renamed_columns = [col(column).alias(sanitize_column_name(column)) for column in df.columns]\n",
    "    return df.select(*renamed_columns)\n"
   ]
  },
  {
   "cell_type": "markdown",
   "metadata": {
    "application/vnd.databricks.v1+cell": {
     "cellMetadata": {},
     "inputWidgets": {},
     "nuid": "7735af38-e8be-4210-8221-243772051fb5",
     "showTitle": false,
     "tableResultSettingsMap": {},
     "title": ""
    }
   },
   "source": [
    "I. LOAD DATA INTO BRONZE LAYER"
   ]
  },
  {
   "cell_type": "markdown",
   "metadata": {
    "application/vnd.databricks.v1+cell": {
     "cellMetadata": {},
     "inputWidgets": {},
     "nuid": "f153661b-d3c4-4b75-bc0d-6d85f0b3ae56",
     "showTitle": false,
     "tableResultSettingsMap": {},
     "title": ""
    }
   },
   "source": [
    "1. LOAD SHOPPING DATA BY PYSPARK"
   ]
  },
  {
   "cell_type": "code",
   "execution_count": 0,
   "metadata": {
    "application/vnd.databricks.v1+cell": {
     "cellMetadata": {
      "byteLimit": 2048000,
      "rowLimit": 10000
     },
     "inputWidgets": {},
     "nuid": "46c85381-e925-4ccf-8a6a-8540ecec97a3",
     "showTitle": false,
     "tableResultSettingsMap": {},
     "title": ""
    }
   },
   "outputs": [],
   "source": [
    "from pyspark.sql.types import StructType, StructField, StringType, IntegerType, FloatType\n",
    "\n",
    "dataset_schema = StructType([\n",
    "    StructField(\"Customer_ID\", IntegerType(), True),\n",
    "    StructField(\"Age\", IntegerType(), True),\n",
    "    StructField(\"Gender\", StringType(), True),\n",
    "    StructField(\"Item_Purchased\", StringType(), True),\n",
    "    StructField(\"Category\", StringType(), True),\n",
    "    StructField(\"Purchase_Amount__USD_\", IntegerType(), True),\n",
    "    StructField(\"Location\", StringType(), True),\n",
    "    StructField(\"Size\", StringType(), True),\n",
    "    StructField(\"Color\", StringType(), True),\n",
    "    StructField(\"Season\", StringType(), True),\n",
    "    StructField(\"Review_Rating\", FloatType(), True),\n",
    "    StructField(\"Subscription_Status\", StringType(), True),\n",
    "    StructField(\"Payment_Method\", StringType(), True),\n",
    "    StructField(\"Shipping_Type\", StringType(), True),\n",
    "    StructField(\"Discount_Applied\", StringType(), True),\n",
    "    StructField(\"Promo_Code_Used\", StringType(), True),\n",
    "    StructField(\"Previous_Purchases\", IntegerType(), True),\n",
    "    StructField(\"Preferred_Payment_Method\", StringType(), True),\n",
    "    StructField(\"Frequency_of_Purchases\", StringType(), True)\n",
    "])\n"
   ]
  },
  {
   "cell_type": "code",
   "execution_count": 0,
   "metadata": {
    "application/vnd.databricks.v1+cell": {
     "cellMetadata": {},
     "inputWidgets": {},
     "nuid": "f1e2ddc1-bc0c-43fb-be73-4eea8003c39c",
     "showTitle": false,
     "tableResultSettingsMap": {},
     "title": ""
    }
   },
   "outputs": [],
   "source": [
    "# Extract: Read raw CSV from S3 into Bronze Layer with spark\n",
    "bronze_shopping_df = spark.read \\\n",
    "    .schema(dataset_schema) \\\n",
    "    .option(\"header\", True) \\\n",
    "    .csv(\"s3://brian-work-dataset/shopping_trends.csv\")\n",
    "\n",
    "bronze_shopping_df.show(2) #to make use data loaded into df"
   ]
  },
  {
   "cell_type": "code",
   "execution_count": 0,
   "metadata": {
    "application/vnd.databricks.v1+cell": {
     "cellMetadata": {},
     "inputWidgets": {},
     "nuid": "7e108e73-b426-40a2-9304-695d66a5ffb6",
     "showTitle": false,
     "tableResultSettingsMap": {},
     "title": ""
    }
   },
   "outputs": [],
   "source": [
    "# Clean column name \n",
    "bronze_shopping_df = clean_column_names(bronze_shopping_df)\n"
   ]
  },
  {
   "cell_type": "markdown",
   "metadata": {
    "application/vnd.databricks.v1+cell": {
     "cellMetadata": {},
     "inputWidgets": {},
     "nuid": "e4ae72d3-6548-4770-8cb8-82956f766c61",
     "showTitle": false,
     "tableResultSettingsMap": {},
     "title": ""
    }
   },
   "source": [
    "2. LOAD SHOPPING DATA INTO DELTA TABLE"
   ]
  },
  {
   "cell_type": "code",
   "execution_count": 0,
   "metadata": {
    "application/vnd.databricks.v1+cell": {
     "cellMetadata": {
      "byteLimit": 2048000,
      "rowLimit": 10000
     },
     "inputWidgets": {},
     "nuid": "23881007-42b0-41e1-a487-00f6fecf0de5",
     "showTitle": false,
     "tableResultSettingsMap": {},
     "title": ""
    }
   },
   "outputs": [],
   "source": [
    "#Write data into delta tableb Delta for other department can use\n",
    "bronze_shopping_df.write.format(\"delta\") \\\n",
    "    .mode(\"append\") \\\n",
    "    .option(\"overwriteSchema\", \"true\") \\\n",
    "    .saveAsTable(\"brian_work.bronze_layer.bronze_shopping_data\")"
   ]
  },
  {
   "cell_type": "code",
   "execution_count": 0,
   "metadata": {
    "application/vnd.databricks.v1+cell": {
     "cellMetadata": {
      "byteLimit": 2048000,
      "rowLimit": 10000
     },
     "inputWidgets": {},
     "nuid": "6c627c71-b85c-4d60-9e8f-2ca51c622d18",
     "showTitle": false,
     "tableResultSettingsMap": {},
     "title": ""
    }
   },
   "outputs": [],
   "source": [
    "display(spark.sql(\"SELECT * FROM brian_work.bronze_layer.bronze_shopping_data LIMIT 10\"))\n",
    "#Use display for better formatting"
   ]
  }
 ],
 "metadata": {
  "application/vnd.databricks.v1+notebook": {
   "computePreferences": null,
   "dashboards": [],
   "environmentMetadata": {
    "base_environment": "",
    "environment_version": "2"
   },
   "language": "python",
   "notebookMetadata": {
    "pythonIndentUnit": 4
   },
   "notebookName": "Bronze Notebook",
   "widgets": {}
  },
  "language_info": {
   "name": "python"
  }
 },
 "nbformat": 4,
 "nbformat_minor": 0
}
