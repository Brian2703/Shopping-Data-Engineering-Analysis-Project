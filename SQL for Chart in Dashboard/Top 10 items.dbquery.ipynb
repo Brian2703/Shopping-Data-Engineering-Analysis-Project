{
 "cells": [
  {
   "cell_type": "code",
   "execution_count": 0,
   "metadata": {
    "application/vnd.databricks.v1+cell": {
     "cellMetadata": {},
     "inputWidgets": {},
     "nuid": "cd2f4800-04e1-46bf-9c23-d35b1a19feb4",
     "showTitle": false,
     "tableResultSettingsMap": {},
     "title": ""
    }
   },
   "outputs": [],
   "source": [
    "SELECT Item_Purchased, COUNT(*) AS Purchase_Count, SUM(Purchase_Amount__USD_) AS Total_Revenue\n",
    "FROM brian_work.gold_layer.gold_shopping_data\n",
    "GROUP BY Item_Purchased\n",
    "ORDER BY Purchase_Count DESC\n",
    "LIMIT 10;\n"
   ]
  }
 ],
 "metadata": {
  "application/vnd.databricks.v1+notebook": {
   "computePreferences": null,
   "dashboards": [],
   "environmentMetadata": null,
   "language": "sql",
   "notebookMetadata": {
    "sqlQueryOptions": {
     "applyAutoLimit": true,
     "catalog": "brian_work",
     "schema": "default"
    }
   },
   "notebookName": "Top 10 items.dbquery.ipynb",
   "widgets": {}
  },
  "language_info": {
   "name": "sql"
  }
 },
 "nbformat": 4,
 "nbformat_minor": 0
}
