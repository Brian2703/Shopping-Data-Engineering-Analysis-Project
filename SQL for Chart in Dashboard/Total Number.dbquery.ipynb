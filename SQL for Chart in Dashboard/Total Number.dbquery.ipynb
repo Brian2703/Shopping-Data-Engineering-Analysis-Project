{
 "cells": [
  {
   "cell_type": "code",
   "execution_count": 0,
   "metadata": {
    "application/vnd.databricks.v1+cell": {
     "cellMetadata": {},
     "inputWidgets": {},
     "nuid": "0c26c5eb-94c4-488f-b50d-bb26347c7ce7",
     "showTitle": false,
     "tableResultSettingsMap": {},
     "title": ""
    }
   },
   "outputs": [],
   "source": [
    "SELECT SUM(Purchase_Amount__USD_ ) AS Total_Revenue\n",
    "FROM brian_work.gold_layer.gold_shopping_data;"
   ]
  }
 ],
 "metadata": {
  "application/vnd.databricks.v1+notebook": {
   "computePreferences": null,
   "dashboards": [],
   "environmentMetadata": null,
   "language": "sql",
   "notebookMetadata": {
    "sqlQueryOptions": {
     "applyAutoLimit": true,
     "catalog": "brian_work",
     "schema": "default"
    }
   },
   "notebookName": "Total Number.dbquery.ipynb",
   "widgets": {}
  },
  "language_info": {
   "name": "sql"
  }
 },
 "nbformat": 4,
 "nbformat_minor": 0
}
